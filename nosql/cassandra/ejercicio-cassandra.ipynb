{
 "cells": [
  {
   "cell_type": "markdown",
   "metadata": {},
   "source": [
    "# Ejercitación Cassandra db"
   ]
  },
  {
   "cell_type": "markdown",
   "metadata": {},
   "source": [
    "#### Se importa el cliente de cassandra"
   ]
  },
  {
   "cell_type": "code",
   "execution_count": 12,
   "metadata": {
    "collapsed": true
   },
   "outputs": [],
   "source": [
    "import cassandra\n",
    "from cassandra.cluster import Cluster"
   ]
  },
  {
   "cell_type": "code",
   "execution_count": 13,
   "metadata": {
    "collapsed": true
   },
   "outputs": [],
   "source": [
    "import pprint\n",
    "import time"
   ]
  },
  {
   "cell_type": "code",
   "execution_count": 14,
   "metadata": {
    "collapsed": true
   },
   "outputs": [],
   "source": [
    "cluster = Cluster()"
   ]
  },
  {
   "cell_type": "code",
   "execution_count": 15,
   "metadata": {
    "collapsed": true
   },
   "outputs": [],
   "source": [
    "session = cluster.connect()"
   ]
  },
  {
   "cell_type": "markdown",
   "metadata": {},
   "source": [
    "#### Se despeja y se recrea el keyspacedonde se van a guardar las column families del ejercicio"
   ]
  },
  {
   "cell_type": "code",
   "execution_count": 16,
   "metadata": {
    "collapsed": true
   },
   "outputs": [],
   "source": [
    "r = session.execute(\"DROP KEYSPACE IF EXISTS registro_viajes;\")"
   ]
  },
  {
   "cell_type": "code",
   "execution_count": 17,
   "metadata": {
    "collapsed": true
   },
   "outputs": [],
   "source": [
    "# Creamos un keyspace llamado 'registro_viajes'\n",
    "r = session.execute(\"CREATE KEYSPACE registro_viajes \\\n",
    "    WITH replication = { 'class': 'SimpleStrategy', \\\n",
    "    'replication_factor': 1 \\\n",
    "    };\")"
   ]
  },
  {
   "cell_type": "markdown",
   "metadata": {},
   "source": [
    "#### Se indica que va utilizarse el keyspace que recién se creó"
   ]
  },
  {
   "cell_type": "code",
   "execution_count": 9,
   "metadata": {
    "collapsed": true
   },
   "outputs": [],
   "source": [
    "r = session.execute(\"USE registro_viajes;\")"
   ]
  },
  {
   "cell_type": "markdown",
   "metadata": {},
   "source": [
    "#### Ejercicio\n",
    "\n",
    "Dado el DEI adjunto, escribir sentencias de CREATE TABLE de CQL para satisfacer las siguientes consultas: El atributo 'evento' de \"Viaja\", se refiere a subida ó bajada.\n",
    "\n",
    "a- Las personas que se toman un colectivo en determinado rango de fechas\n",
    "\n",
    "b- Para determinado colectivo, en qué horarios hay personas que los usa\n",
    "\n",
    "c- Para una ciudad, los horarios en que se suben la gente a ciertos colectivos\n",
    "\n",
    "![DEI](ejercicio-cassandra-DEI.jpg)"
   ]
  },
  {
   "cell_type": "code",
   "execution_count": 10,
   "metadata": {
    "collapsed": true
   },
   "outputs": [],
   "source": [
    "# Column-family personas: Su clave de partición es el dni\n",
    "r = session.execute(\"CREATE COLUMNFAMILY personas (\\\n",
    "    dni int,\\\n",
    "    nombre text, \\\n",
    "    fecha_de_nacimiento date,\\\n",
    "    primary key (dni) \\\n",
    ");\")"
   ]
  },
  {
   "cell_type": "code",
   "execution_count": 49,
   "metadata": {
    "collapsed": true
   },
   "outputs": [],
   "source": [
    "\n",
    "r = session.execute(\"INSERT INTO personas (dni, nombre, fecha_de_nacimiento) VALUES \\\n",
    "                        (36785223, 'Nicolás Ledesma', '1992-10-02');\")\n",
    "r = session.execute(\"INSERT INTO personas (dni, nombre, fecha_de_nacimiento) VALUES \\\n",
    "                        (36785221, 'Juan González', '1992-10-01');\")\n",
    "r = session.execute(\"INSERT INTO personas (dni, nombre, fecha_de_nacimiento) VALUES \\\n",
    "                        (36785220, 'Emilia Pérez', '1992-10-09');\")\n",
    "r = session.execute(\"INSERT INTO personas (dni, nombre, fecha_de_nacimiento) VALUES \\\n",
    "                        (36785229, 'Rodrigo Gómez', '1992-10-08');\")\n",
    "r = session.execute(\"INSERT INTO personas (dni, nombre, fecha_de_nacimiento) VALUES \\\n",
    "                        (36785228, 'Pablo Ortega', '1992-10-07');\")"
   ]
  },
  {
   "cell_type": "markdown",
   "metadata": {},
   "source": [
    "#### RTA a) Las personas que se toman un colectivo en determinado rango de fechas\n",
    "\n",
    "_Creación de la column family:_\n",
    "\n",
    "```cql\n",
    "CREATE COLUMNFAMILY eventos_por_fecha_hora (\n",
    "    dni int,\n",
    "    fecha date,\n",
    "    hora time,\n",
    "    evento text, \n",
    "    primary key ((evento), fecha, hora)\n",
    "    );\n",
    "```    \n",
    "\n",
    "_Consulta:_\n",
    "\n",
    "```cql\n",
    "SELECT dni FROM eventos_por_fecha_hora \n",
    "WHERE evento='sube' and fecha >= '2017-05-01' and fecha < '2017-06-01';\n",
    "```"
   ]
  },
  {
   "cell_type": "code",
   "execution_count": 50,
   "metadata": {
    "collapsed": true
   },
   "outputs": [],
   "source": [
    "# Column-family personas: Su clave de partición es el dni\n",
    "r = session.execute(\"CREATE COLUMNFAMILY eventos_por_fecha_hora (\\\n",
    "    dni int,\\\n",
    "    fecha date,\\\n",
    "    hora time,\\\n",
    "    evento text, \\\n",
    "    primary key ((evento), fecha, hora) \\\n",
    ");\")"
   ]
  },
  {
   "cell_type": "code",
   "execution_count": 51,
   "metadata": {
    "collapsed": true
   },
   "outputs": [],
   "source": [
    "r = session.execute(\"INSERT INTO eventos_por_fecha_hora (dni, fecha, hora, evento) VALUES \\\n",
    "                        (36785223, '2017-03-03', '20:00:00', 'sube');\")\n",
    "r = session.execute(\"INSERT INTO eventos_por_fecha_hora (dni, fecha, hora, evento) VALUES \\\n",
    "                        (36785223, '2017-03-03', '20:30:00', 'baja');\")\n",
    "r = session.execute(\"INSERT INTO eventos_por_fecha_hora (dni, fecha, hora, evento) VALUES \\\n",
    "                        (36785221, '2017-05-05', '20:00:00', 'sube');\")\n",
    "r = session.execute(\"INSERT INTO eventos_por_fecha_hora (dni, fecha, hora, evento) VALUES \\\n",
    "                        (36785221, '2017-05-05', '20:30:00', 'baja');\")\n",
    "r = session.execute(\"INSERT INTO eventos_por_fecha_hora (dni, fecha, hora, evento) VALUES \\\n",
    "                        (36785220, '2017-05-20', '20:00:00', 'sube');\")\n",
    "r = session.execute(\"INSERT INTO eventos_por_fecha_hora (dni, fecha, hora, evento) VALUES \\\n",
    "                        (36785220, '2017-05-30', '20:30:00', 'baja');\")\n",
    "r = session.execute(\"INSERT INTO eventos_por_fecha_hora (dni, fecha, hora, evento) VALUES \\\n",
    "                        (36785229, '2017-01-01', '20:00:00', 'sube');\")\n",
    "r = session.execute(\"INSERT INTO eventos_por_fecha_hora (dni, fecha, hora, evento) VALUES \\\n",
    "                        (36785229, '2017-01-01', '20:30:00', 'baja');\")"
   ]
  },
  {
   "cell_type": "code",
   "execution_count": 52,
   "metadata": {},
   "outputs": [
    {
     "name": "stdout",
     "output_type": "stream",
     "text": [
      "Row(dni=36785221)\n",
      "Row(dni=36785220)\n"
     ]
    }
   ],
   "source": [
    "# Personas que viajaron en mayo de 2017\n",
    "r = session.execute(\"SELECT dni \\\n",
    "                     FROM eventos_por_fecha_hora \\\n",
    "                     WHERE evento='sube' and fecha >= '2017-05-01' and fecha < '2017-06-01';\")\n",
    "\n",
    "for row in r:\n",
    "    pprint.pprint(row)"
   ]
  },
  {
   "cell_type": "markdown",
   "metadata": {},
   "source": [
    "#### RTA b) Para determinado colectivo, en qué horarios hay personas que los usa\n",
    "\n",
    "_Creación de la column family:_\n",
    "\n",
    "```cql\n",
    "\n",
    "```    \n",
    "\n",
    "_Consulta:_\n",
    "\n",
    "```cql\n",
    "```"
   ]
  },
  {
   "cell_type": "code",
   "execution_count": 53,
   "metadata": {
    "collapsed": true
   },
   "outputs": [],
   "source": [
    "# Column-family personas: Su clave de partición es el dni\n",
    "r = session.execute(\"CREATE COLUMNFAMILY viajes_por_colectivo (\\\n",
    "    numero_colectivo int,\\\n",
    "    dni int, \\\n",
    "    hora time,\\\n",
    "    evento text,\\\n",
    "    primary key ((numero_colectivo), evento, dni) \\\n",
    ");\")"
   ]
  },
  {
   "cell_type": "code",
   "execution_count": 54,
   "metadata": {
    "collapsed": true
   },
   "outputs": [],
   "source": [
    "r = session.execute(\"INSERT INTO viajes_por_colectivo (numero_colectivo, dni, hora, evento) VALUES \\\n",
    "                        (17 ,36785223, '20:00:00', 'sube');\")\n",
    "r = session.execute(\"INSERT INTO viajes_por_colectivo (numero_colectivo, dni, hora, evento) VALUES \\\n",
    "                        (17 ,36785223, '20:30:00', 'baja');\")\n",
    "r = session.execute(\"INSERT INTO viajes_por_colectivo (numero_colectivo, dni, hora, evento) VALUES \\\n",
    "                        (22, 36785220, '20:00:00', 'sube');\")\n",
    "r = session.execute(\"INSERT INTO viajes_por_colectivo (numero_colectivo, dni, hora, evento) VALUES \\\n",
    "                        (22, 36785220, '20:30:00', 'baja');\")\n",
    "r = session.execute(\"INSERT INTO viajes_por_colectivo (numero_colectivo, dni, hora, evento) VALUES \\\n",
    "                        (17 ,12121212, '19:00:00', 'sube');\")\n",
    "r = session.execute(\"INSERT INTO viajes_por_colectivo (numero_colectivo, dni, hora, evento) VALUES \\\n",
    "                        (17 ,12121212, '19:30:00', 'baja');\")\n",
    "r = session.execute(\"INSERT INTO viajes_por_colectivo (numero_colectivo, dni, hora, evento) VALUES \\\n",
    "                        (22 ,16785223, '18:00:00', 'sube');\")\n",
    "r = session.execute(\"INSERT INTO viajes_por_colectivo (numero_colectivo, dni, hora, evento) VALUES \\\n",
    "                        (22 ,16785223, '18:00:00', 'baja');\")"
   ]
  },
  {
   "cell_type": "code",
   "execution_count": 77,
   "metadata": {},
   "outputs": [
    {
     "name": "stdout",
     "output_type": "stream",
     "text": [
      "'19:00:00.000000000'\n",
      "'20:00:00.000000000'\n"
     ]
    }
   ],
   "source": [
    "# Personas que viajaron en mayo de 2017\n",
    "r = session.execute(\"SELECT hora \\\n",
    "                     FROM viajes_por_colectivo \\\n",
    "                     WHERE numero_colectivo=17 and evento='sube';\")\n",
    "\n",
    "for row in r:\n",
    "    pprint.pprint(str(row.hora))"
   ]
  },
  {
   "cell_type": "code",
   "execution_count": null,
   "metadata": {
    "collapsed": true
   },
   "outputs": [],
   "source": []
  }
 ],
 "metadata": {
  "kernelspec": {
   "display_name": "Python 3",
   "language": "python",
   "name": "python3"
  },
  "language_info": {
   "codemirror_mode": {
    "name": "ipython",
    "version": 3
   },
   "file_extension": ".py",
   "mimetype": "text/x-python",
   "name": "python",
   "nbconvert_exporter": "python",
   "pygments_lexer": "ipython3",
   "version": "3.5.2"
  }
 },
 "nbformat": 4,
 "nbformat_minor": 2
}
